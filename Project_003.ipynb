{
 "cells": [
  {
   "cell_type": "code",
   "execution_count": null,
   "id": "3b6824db-582c-4d4b-bb94-1d660332e274",
   "metadata": {},
   "outputs": [
    {
     "name": "stdout",
     "output_type": "stream",
     "text": [
      "\n",
      "========== Matrix Operations Tool ==========\n",
      "1. Add Matrices\n",
      "2. Subtract Matrices\n",
      "3. Multiply Matrices\n",
      "4. Transpose a Matrix\n",
      "5. Determinant of a Matrix\n",
      "6. Exit\n",
      "============================================\n"
     ]
    },
    {
     "name": "stdin",
     "output_type": "stream",
     "text": [
      "Choose an operation (1–6):  1\n"
     ]
    },
    {
     "name": "stdout",
     "output_type": "stream",
     "text": [
      "\n",
      "Enter details for Matrix 1:\n"
     ]
    },
    {
     "name": "stdin",
     "output_type": "stream",
     "text": [
      "Enter number of rows:  3\n",
      "Enter number of columns:  3\n"
     ]
    },
    {
     "name": "stdout",
     "output_type": "stream",
     "text": [
      "Enter the matrix elements row-wise (space-separated):\n"
     ]
    },
    {
     "name": "stdin",
     "output_type": "stream",
     "text": [
      "Row 1:  1 4 7\n",
      "Row 2:  2 5 8\n",
      "Row 3:  3 6 9\n"
     ]
    },
    {
     "name": "stdout",
     "output_type": "stream",
     "text": [
      "\n",
      "Enter details for Matrix 2:\n"
     ]
    },
    {
     "name": "stdin",
     "output_type": "stream",
     "text": [
      "Enter number of rows:  3\n",
      "Enter number of columns:  3\n"
     ]
    },
    {
     "name": "stdout",
     "output_type": "stream",
     "text": [
      "Enter the matrix elements row-wise (space-separated):\n"
     ]
    },
    {
     "name": "stdin",
     "output_type": "stream",
     "text": [
      "Row 1:  1 2 3\n",
      "Row 2:  4 5 6\n",
      "Row 3:  7 8 9\n"
     ]
    },
    {
     "name": "stdout",
     "output_type": "stream",
     "text": [
      "\n",
      "Result of Matrix Addition:\n",
      " [[ 2.  6. 10.]\n",
      " [ 6. 10. 14.]\n",
      " [10. 14. 18.]]\n",
      "\n",
      "========== Matrix Operations Tool ==========\n",
      "1. Add Matrices\n",
      "2. Subtract Matrices\n",
      "3. Multiply Matrices\n",
      "4. Transpose a Matrix\n",
      "5. Determinant of a Matrix\n",
      "6. Exit\n",
      "============================================\n"
     ]
    }
   ],
   "source": [
    "import pandas as pd\n",
    "import numpy as np\n",
    "\n",
    "def input_matrix(matrix_number):\n",
    "    print(f\"\\nEnter details for Matrix {matrix_number}:\")\n",
    "    rows = int(input(\"Enter number of rows: \"))\n",
    "    cols = int(input(\"Enter number of columns: \"))\n",
    "\n",
    "    matrix = []\n",
    "    print(\"Enter the matrix elements row-wise (space-separated):\")\n",
    "    for i in range(rows):\n",
    "        row = list(map(float, input(f\"Row {i+1}: \").split()))\n",
    "        if len(row) != cols:\n",
    "            print(\"Error: Number of elements doesn't match the column count.\")\n",
    "            return None\n",
    "        matrix.append(row)\n",
    "\n",
    "    return np.array(matrix)\n",
    "\n",
    "def add_matrices(A, B):\n",
    "    if A.shape != B.shape:\n",
    "        print(\"Error: Matrices must be of the same size for addition.\")\n",
    "        return None\n",
    "    return A + B\n",
    "\n",
    "def subtract_matrices(A, B):\n",
    "    if A.shape != B.shape:\n",
    "        print(\"Error: Matrices must be of the same size for subtraction.\")\n",
    "        return None\n",
    "    return A - B\n",
    "\n",
    "def multiply_matrices(A, B):\n",
    "    if A.shape[1] != B.shape[0]:\n",
    "        print(\"Error: Columns of Matrix A must match rows of Matrix B for multiplication.\")\n",
    "        return None\n",
    "    return np.dot(A, B)\n",
    "\n",
    "def transpose_matrix(A):\n",
    "    return A.T\n",
    "\n",
    "def determinant_matrix(A):\n",
    "    if A.shape[0] != A.shape[1]:\n",
    "        print(\"Error: Determinant can only be calculated for square matrices.\")\n",
    "        return None\n",
    "    return np.linalg.det(A)\n",
    "\n",
    "def display_menu():\n",
    "    print(\"\\n========== Matrix Operations Tool ==========\")\n",
    "    print(\"1. Add Matrices\")\n",
    "    print(\"2. Subtract Matrices\")\n",
    "    print(\"3. Multiply Matrices\")\n",
    "    print(\"4. Transpose a Matrix\")\n",
    "    print(\"5. Determinant of a Matrix\")\n",
    "    print(\"6. Exit\")\n",
    "    print(\"============================================\")\n",
    "\n",
    "def main():\n",
    "    while True:\n",
    "        display_menu()\n",
    "        choice = input(\"Choose an operation (1–6): \")\n",
    "\n",
    "        if choice == '1':\n",
    "            A = input_matrix(1)\n",
    "            B = input_matrix(2)\n",
    "            if A is not None and B is not None:\n",
    "                result = add_matrices(A, B)\n",
    "                if result is not None:\n",
    "                    print(\"\\nResult of Matrix Addition:\\n\", result)\n",
    "\n",
    "        elif choice == '2':\n",
    "            A = input_matrix(1)\n",
    "            B = input_matrix(2)\n",
    "            if A is not None and B is not None:\n",
    "                result = subtract_matrices(A, B)\n",
    "                if result is not None:\n",
    "                    print(\"\\nResult of Matrix Subtraction:\\n\", result)\n",
    "\n",
    "        elif choice == '3':\n",
    "            A = input_matrix(1)\n",
    "            B = input_matrix(2)\n",
    "            if A is not None and B is not None:\n",
    "                result = multiply_matrices(A, B)\n",
    "                if result is not None:\n",
    "                    print(\"\\nResult of Matrix Multiplication:\\n\", result)\n",
    "\n",
    "        elif choice == '4':\n",
    "            A = input_matrix(1)\n",
    "            if A is not None:\n",
    "                result = transpose_matrix(A)\n",
    "                print(\"\\nTranspose of the Matrix:\\n\", result)\n",
    "\n",
    "        elif choice == '5':\n",
    "            A = input_matrix(1)\n",
    "            if A is not None:\n",
    "                result = determinant_matrix(A)\n",
    "                if result is not None:\n",
    "                    print(f\"\\nDeterminant of the Matrix: {round(result, 2)}\")\n",
    "\n",
    "        elif choice == '6':\n",
    "            print(\"\\nExiting the program. Thank you for using Matrix Operations Tool!\")\n",
    "            break\n",
    "\n",
    "        else:\n",
    "            print(\"Invalid choice. Please enter a number between 1 and 6.\")\n",
    "\n",
    "# Run the program\n",
    "if __name__ == \"__main__\":\n",
    "    main()"
   ]
  },
  {
   "cell_type": "code",
   "execution_count": null,
   "id": "051e9344-b52b-462e-a5de-7dc046445970",
   "metadata": {},
   "outputs": [],
   "source": []
  }
 ],
 "metadata": {
  "kernelspec": {
   "display_name": "Python 3 (ipykernel)",
   "language": "python",
   "name": "python3"
  },
  "language_info": {
   "codemirror_mode": {
    "name": "ipython",
    "version": 3
   },
   "file_extension": ".py",
   "mimetype": "text/x-python",
   "name": "python",
   "nbconvert_exporter": "python",
   "pygments_lexer": "ipython3",
   "version": "3.12.4"
  }
 },
 "nbformat": 4,
 "nbformat_minor": 5
}
